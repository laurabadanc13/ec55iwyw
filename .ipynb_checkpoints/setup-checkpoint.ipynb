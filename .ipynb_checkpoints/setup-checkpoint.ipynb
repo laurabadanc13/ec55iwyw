{
 "cells": [
  {
   "cell_type": "code",
   "execution_count": null,
   "id": "f7039cd0",
   "metadata": {},
   "outputs": [],
   "source": [
    "from setuptools import find_packages\n",
    "setup(name='ec55iwyw',\n",
    " version='0.1',\n",
    " author='DSSS',\n",
    " author_email='laura.rabadan@fau.de',\n",
    " packages=find_packages(),\n",
    " install_requires=['numpy', 'Pillow', 'ipywidgets'])\n"
   ]
  }
 ],
 "metadata": {
  "kernelspec": {
   "display_name": "myvenv",
   "language": "python",
   "name": "myvenv"
  },
  "language_info": {
   "codemirror_mode": {
    "name": "ipython",
    "version": 3
   },
   "file_extension": ".py",
   "mimetype": "text/x-python",
   "name": "python",
   "nbconvert_exporter": "python",
   "pygments_lexer": "ipython3",
   "version": "3.7.6"
  }
 },
 "nbformat": 4,
 "nbformat_minor": 5
}
